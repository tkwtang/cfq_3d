{
 "cells": [
  {
   "cell_type": "code",
   "execution_count": 1,
   "id": "87b6a098-1f2b-4b4e-a069-f458d4b3f5a4",
   "metadata": {},
   "outputs": [],
   "source": [
    "import numpy as np\n",
    "import importlib, os, datetime, pickle\n",
    "from sus.protocol_designer import System, Protocol, Potential, Compound_Protocol\n",
    "from sus.protocol_designer.protocol import sequential_protocol\n",
    "from IPython import display\n",
    "from IPython.display import HTML, Image\n",
    "import matplotlib.animation as animation\n",
    "from matplotlib.animation import FuncAnimation, PillowWriter\n",
    "from quick_sim import setup_sim\n",
    "\n",
    "\n",
    "# import edward_tools.fq_runner as fq_runner\n",
    "from edward_tools.cfqp_3D_potential import coupled_flux_qubit_2p5D_non_linear_approx_pot, coupled_flux_qubit_2p5D_non_linear_approx_force\n",
    "from edward_tools.visualization import animate_sim_flux_qubit, plotFidelityBarChart, separate_by_state_2\n",
    "from edward_tools.initial_state_sampling import extra_constraint_00_and_11_only\n",
    "from NAND_PARAMETERS import *\n",
    "import importlib\n",
    "\n",
    "import kyle_tools as kt\n",
    "import matplotlib.pyplot as plt\n",
    "\n",
    "from edward_tools import cfq_3D_runner, coupled_fq_protocol_library\n",
    "\n",
    "import edward_tools.cfq_batch_sweep as cfq_batch_sweep\n",
    "import edward_tools.Analysis_tool.general_analysis_tools as general_analysis_tool\n",
    "# from edward_tools.Analysis_tool.general_analysis_tools import show_phi_dc_with_time\n",
    "import edward_tools.Analysis_tool.minimum_value_of_potential as minimum_value_of_potential\n",
    "from edward_tools.couple_flux_qubit_metrics import fidelityEvaluation\n",
    "from edward_tools import visualization\n",
    "\n",
    "\n",
    "# create_simple_protocol_parameter_dict = coupled_fq_protocol_library.create_simple_protocol_parameter_dict\n",
    "# coupled_fq_runner = importlib.reload(cfq_runner)\n",
    "# coupled_fq_protocol_library = importlib.reload(coupled_fq_protocol_library)\n",
    "# create_system = coupled_fq_protocol_library.create_system\n",
    "# get_potential_along_a_1D_cutline = coupled_fq_protocol_library.get_potential_along_a_1D_cutline\n",
    "# plotCutlines = coupled_fq_protocol_library.plotCutlines"
   ]
  },
  {
   "cell_type": "code",
   "execution_count": 2,
   "id": "be4d5489-b54b-4851-a01f-006d13ad5a99",
   "metadata": {},
   "outputs": [],
   "source": [
    "{\n",
    "    0: \"U0_1\", 1: \"U0_2\", 2: \"U0_3\", 3: \"gamma_1\", 4: \"gamma_2\", 5: \"gamma_3\", 6: \"beta_1\", 7: \"beta_2\",\n",
    "    8: \"beta_3\", 9: \"d_beta_1\", 10: \"d_beta_2\", 11: \"d_beta_3\", 12: \"phi_1ax\", 13: \"phi_1bx\",\n",
    "    14: \"phi_2x\", 15: \"phi_3x\", 16: \"phi_1xdc\", 17: \"phi_2xdc\", 18: \"phi_3xdc\", 19: \"mu_12\", 20: \"mu_13\"\n",
    "}\n",
    "\n",
    "default_potential_params = [1, 1, 1, 20, 20, 20, 2.3, 2.3, 2.3, 0, 0, 0, 0, 0, 0, 0, 0, 0, 0, 0, 0]\n"
   ]
  },
  {
   "cell_type": "code",
   "execution_count": 3,
   "id": "e8e038db-1be9-4259-ae65-ad5d8ab54e31",
   "metadata": {},
   "outputs": [
    {
     "data": {
      "text/plain": [
       "21"
      ]
     },
     "execution_count": 3,
     "metadata": {},
     "output_type": "execute_result"
    }
   ],
   "source": [
    "len(\"\"\"U0_1, U0_2, U0_3, gamma_1, gamma_2, gamma_3, beta_1, beta_2, beta_3, d_beta_1, d_beta_2, d_beta_3, phi_1ax, phi_1bx, phi_2x, phi_3x, phi_1xdc, phi_2xdc, phi_3xdc, mu_12, mu_13\"\"\".split(\", \"))"
   ]
  },
  {
   "cell_type": "code",
   "execution_count": 4,
   "id": "6ace776a-f61e-48c2-9ab7-7d0268f55fce",
   "metadata": {},
   "outputs": [
    {
     "data": {
      "text/plain": [
       "[1, 1, 1, 20, 20, 20, 2.3, 2.3, 2.3, 0, 0, 0, 0, 0, 0, 0, 0, 0, 0, 0, 0]"
      ]
     },
     "execution_count": 4,
     "metadata": {},
     "output_type": "execute_result"
    }
   ],
   "source": [
    "default_potential_params"
   ]
  },
  {
   "cell_type": "code",
   "execution_count": 5,
   "id": "f8106e45-7c28-4c44-bef9-7645582648b0",
   "metadata": {},
   "outputs": [
    {
     "data": {
      "text/plain": [
       "21"
      ]
     },
     "execution_count": 5,
     "metadata": {},
     "output_type": "execute_result"
    }
   ],
   "source": [
    "len(default_potential_params)"
   ]
  },
  {
   "cell_type": "code",
   "execution_count": 6,
   "id": "93f74775-8c85-40db-9015-81f55fd8e64d",
   "metadata": {},
   "outputs": [],
   "source": [
    "has_velocity = True\n",
    "\n",
    "PHI_0 = 2.067833848 * 1e-15\n",
    "k_B = 1.38e-23\n",
    "T = 4.3\n",
    "k_BT = k_B * T\n",
    "\n",
    "C_factor = 1\n",
    "L_factor = 1\n",
    "R_factor = 1\n",
    "I_m_factor = 0\n",
    "\n",
    "I_p_1, I_p_2, I_p_3 = 5e-6, 5e-6 , 5e-6  # Amp\n",
    "I_m_1, I_m_2, I_m_3 = 7e-9 * I_m_factor, 7e-9 * I_m_factor, 7e-9 * I_m_factor              # Amp\n",
    "R_1, R_2, R_3 = 1 * R_factor, 1 * R_factor, 1 * R_factor           # ohm\n",
    "C_1, C_2, C_3 = 500e-15 * C_factor, 500e-15 * C_factor, 500e-15 * C_factor                 # F\n",
    "L_1, L_2, L_3 = 140e-12 * L_factor, 140e-12 * L_factor, 140e-12 * L_factor                 # H  \n",
    "\n",
    "freq = 1/np.sqrt(C_1 * L_1)\n",
    "characteristic_time = np.sqrt(C_1 * C_factor * L_1 * L_factor)"
   ]
  },
  {
   "cell_type": "code",
   "execution_count": 7,
   "id": "61b2ef6e-ef36-4567-a27c-90aedb66f7b5",
   "metadata": {},
   "outputs": [],
   "source": [
    "m_c = C_1\n",
    "m_1, m_2, m_3 = C_1, C_2, C_3\n",
    "x_c = PHI_0 / (2 * np.pi)\n",
    "t_c = np.sqrt(L_1 * C_1)\n",
    "v_c = x_c / t_c\n",
    "\n",
    "\n",
    "U0_1 = m_c * x_c**2 / t_c**2 / k_BT\n",
    "U0_2 = m_2 * x_c**2 / t_c**2 / k_BT\n",
    "kappa_1, kappa_2, kappa_3, kappa_4 = 1/U0_1, 1/U0_1, 1/U0_1, 1/U0_1\n",
    "\n",
    "# phi\n",
    "lambda_1 = 2 * np.sqrt(L_1 * C_1) / (C_1 * R_1)\n",
    "theta_1  = 1\n",
    "eta_1    = np.sqrt(np.sqrt(L_1 * C_1)/ (R_1 * C_1)) * np.sqrt(2 * kappa_1 / 1**2)\n",
    "\n",
    "lambda_2 = 2 * np.sqrt(L_1 * C_1) / (C_2 * R_2)\n",
    "theta_2  = 1 / (C_2/C_1)\n",
    "eta_2    = np.sqrt(np.sqrt(L_1 * C_1)/ (R_1 * C_1)) * np.sqrt(2 * kappa_2 * (R_1 * C_1**2) / (R_2 * C_2**2))\n",
    "\n",
    "lambda_3 = 2 * np.sqrt(L_1 * C_1) / (C_3 * R_3)\n",
    "theta_3  = 1 / (C_3/C_1)\n",
    "eta_3    = np.sqrt(np.sqrt(L_1 * C_1)/ (R_1 * C_1)) * np.sqrt(2 * kappa_2 * (R_1 * C_1**2) / (R_3 * C_3**2))\n",
    "\n",
    "# phi_dc\n",
    "\n",
    "lambda_4 = 2 * np.sqrt(L_1 * C_1) / (C_1 * R_1)\n",
    "theta_4  = 4\n",
    "eta_4    = np.sqrt(np.sqrt(L_1 * C_1)/ (R_1 * C_1)) * np.sqrt(8 * kappa_3)\n",
    "\n",
    "lambda_5 = 2 * np.sqrt(L_1 * C_1) / (C_2 * R_2)\n",
    "theta_5  = 4 / (C_2/C_1)\n",
    "eta_5    = np.sqrt(np.sqrt(L_1 * C_1)/ (R_1 * C_1)) * np.sqrt(8 * kappa_4 * (R_1 * C_1**2) / (R_2 * C_2**2))\n",
    "\n",
    "lambda_6 = 2 * np.sqrt(L_1 * C_1) / (C_3 * R_3)\n",
    "theta_6  = 4 / (C_3/C_1)\n",
    "eta_6    = np.sqrt(np.sqrt(L_1 * C_1)/ (R_1 * C_1)) * np.sqrt(8 * kappa_4 * (R_1 * C_1**2) / (R_3 * C_3**2))\n",
    "\n",
    "gamma_1, gamma_2, gamma_3 = 20, 20, 20\n",
    "\n",
    "\n",
    "beta_1 = 2 * np.pi * L_1 * I_p_1 / PHI_0; \n",
    "beta_2 = 2 * np.pi * L_2 * I_p_2 / PHI_0;\n",
    "beta_3 = 2 * np.pi * L_3 * I_p_3 / PHI_0;\n",
    "\n",
    "beta_1 = 2.3\n",
    "beta_2 = 2.3\n",
    "beta_3 = 2.3\n",
    "\n",
    "d_beta_1 = 2 * np.pi * L_1 * I_m_1 / PHI_0; \n",
    "d_beta_2 = 2 * np.pi * L_2 * I_m_2 / PHI_0;\n",
    "d_beta_3 = 2 * np.pi * L_3 * I_m_3 / PHI_0;\n",
    "\n",
    "_lambda = np.array([lambda_1, lambda_2, lambda_3, lambda_4, lambda_5, lambda_6])\n",
    "_theta  = np.array([theta_1, theta_2, theta_3, theta_4, theta_5, theta_6])\n",
    "_eta  =   np.array([eta_1, eta_2, eta_3, eta_4, eta_5, eta_6])\n",
    "\n",
    "v_1 = np.random.normal(0, np.sqrt(k_BT/m_1)) / v_c\n",
    "v_2 = np.random.normal(0, np.sqrt(k_BT/m_2)) / v_c\n",
    "v_3 = np.random.normal(0, np.sqrt(k_BT/m_3)) / v_c\n",
    "v_4 = np.random.normal(0, np.sqrt(k_BT/(m_1/4))) / v_c\n",
    "v_5 = np.random.normal(0, np.sqrt(k_BT/(m_2/4))) / v_c\n",
    "v_6 = np.random.normal(0, np.sqrt(k_BT/(m_3/4))) / v_c"
   ]
  },
  {
   "cell_type": "code",
   "execution_count": 8,
   "id": "5c627eda-e67d-4594-bb8f-c394a28725e1",
   "metadata": {},
   "outputs": [
    {
     "name": "stdout",
     "output_type": "stream",
     "text": [
      "L_1 = 140pH, T = 4.3K\n",
      "freq = 120GHz\n",
      "8.366600265340756e-12\n",
      "0.07670153130674186\n"
     ]
    }
   ],
   "source": [
    "print(f\"L_1 = {L_1 * 1e12:.3g}pH, T = {T}K\")\n",
    "print(f\"freq = {freq / 1e9:.3g}GHz\")\n",
    "print(characteristic_time)\n",
    "print(1/U0_1)"
   ]
  },
  {
   "cell_type": "code",
   "execution_count": 9,
   "id": "2dbb0b7b-d13d-45f5-b7cb-599d6c1d8c01",
   "metadata": {},
   "outputs": [],
   "source": [
    "experiment_comment = \"Testing\""
   ]
  },
  {
   "cell_type": "code",
   "execution_count": 172,
   "id": "f8b4679e-6525-4234-969c-82ebed90d946",
   "metadata": {},
   "outputs": [],
   "source": [
    "\"\"\"\n",
    "# step 0: modify parameters\n",
    "- All the parameters are stored in a separate file PARAMETER_INPUT\n",
    "- You can override some of the parameters here.\n",
    "\"\"\"\n",
    "params = {}\n",
    "params['N'] = 500\n",
    "params['dt'] = 1/5000\n",
    "params['lambda'] = 1\n",
    "params['beta'] = 1\n",
    "params['sim_params'] = [_lambda, _theta, _eta]\n",
    "params['target_work'] = None\n",
    "params['applyOffset'] = False\n",
    "params['measureWorkWithOffset'] = False\n",
    "params['monitor_work_dist_in_whole_process'] = True # To monitor the work process\n",
    "params['comment'] = experiment_comment\n",
    "params['capacitance'] = np.array([C_1, C_2, C_3, C_1/4, C_2/4, C_3/4])\n",
    "params['mass'] = np.array([1, 1, 1, 1/4, 1/4, 1/4])\n",
    "params['v_c'] = x_c/t_c\n",
    "params['k_BT'] = k_BT\n",
    "params['U0'] = U0_1\n",
    "params['as_step'] = np.s_[::10] # the time step to skep for the all_state\n",
    "params['percentage'] = 1 # For what percentage of the total sample do you want to keep in the output all_state\n"
   ]
  },
  {
   "cell_type": "code",
   "execution_count": 173,
   "id": "b71baf25-be41-496b-8653-2a909515f852",
   "metadata": {},
   "outputs": [],
   "source": [
    "\"\"\"\n",
    "# step 2: Define initial condition and protocol\n",
    "\"\"\"\n",
    "manual_domain=[np.array([-4, -4, -4]), np.array([4, 4, 4])]\n",
    "\n",
    "\n",
    "\n",
    "# µ = 0.06, φ2xdc = 1.79, φ1x = 0.59, and φ2x = 0.10.\n",
    "    \n",
    "initial_parameter_dict = {\n",
    "    \"U0_1\": U0_1, \"U0_2\": U0_2, \"U0_3\": U0_2, \"gamma_1\": gamma_1, \"gamma_2\": gamma_2, \"gamma_3\": gamma_3, \n",
    "    \"beta_1\": beta_1, \"beta_2\": beta_2, \"beta_3\": beta_3, \"d_beta_1\": d_beta_1, \"d_beta_2\": d_beta_2, \"d_beta_3\": d_beta_3, \n",
    "    \"phi_1ax\": 0, \"phi_1bx\": 0, \"phi_2x\": 0, \"phi_3x\": 0, \"phi_1xdc\": 0, \"phi_2xdc\": 0, \"phi_3xdc\": 0, \"mu_12\":0, \"mu_13\": 0\n",
    "}\n"
   ]
  },
  {
   "cell_type": "code",
   "execution_count": 174,
   "id": "f575cf2d-39e1-4aba-979a-59e69df30487",
   "metadata": {},
   "outputs": [],
   "source": [
    "\"\"\"\n",
    "# step 1: Define potential\n",
    "\"\"\"\n",
    "coupled_fq_default_param = [1, 1, 1, 20, 20, 20, 2.3, 2.3, 2.3, 0, 0, 0, 0, 0, 0, 0, 0, 0, 0, 0, 0, 0]\n",
    "[phi_1_bound, phi_2_bound, phi_3_bound, phi_1dc_bound, phi_2dc_bound, phi_3dc_bound] = np.array([4, 4, 4, 4, 4, 4])\n",
    "contour_range = [300, 2000]\n",
    "    \n",
    "coupled_fq_domain = [[-phi_1_bound, -phi_2_bound, -phi_3_bound, -phi_1dc_bound, -phi_2dc_bound, -phi_3dc_bound], \\\n",
    "                     [phi_1_bound, phi_2_bound, phi_3_bound, phi_1dc_bound, phi_2dc_bound, phi_3dc_bound]]\n",
    "\n",
    "# coupled_fq_pot = Potential(coupled_flux_qubit_pot_with_offset_at_00_xy, coupled_flux_qubit_force, 14, 4,\\\n",
    "#                            default_params = coupled_fq_default_param,  relevant_domain = coupled_fq_domain)\n",
    "\n",
    "coupled_fq_pot = Potential(coupled_flux_qubit_2p5D_non_linear_approx_pot, coupled_flux_qubit_2p5D_non_linear_approx_force, 21, 6,\\\n",
    "                           default_params = initial_parameter_dict,  relevant_domain = coupled_fq_domain)\n"
   ]
  },
  {
   "cell_type": "code",
   "execution_count": null,
   "id": "0d0f4073-8520-4361-b4a3-77b9c687511b",
   "metadata": {},
   "outputs": [],
   "source": []
  },
  {
   "cell_type": "markdown",
   "id": "70612c67-c745-475f-a343-3a8f2bf13185",
   "metadata": {},
   "source": [
    "# protocol settings"
   ]
  },
  {
   "cell_type": "code",
   "execution_count": 175,
   "id": "f4f93911-98e8-4394-b7d6-cd6537226e46",
   "metadata": {},
   "outputs": [],
   "source": [
    "zeroDissipation = False\n",
    "saveAllStates = True\n",
    "\n",
    "params['sim_params'] = [_lambda, _theta, _eta]\n",
    "\n",
    "if zeroDissipation:\n",
    "    params['sim_params'] = [_lambda * 0, _theta, _eta * 0]\n",
    "\n",
    "params['circuit_parameters'] = {\n",
    "    \"C_factor\":C_factor, \"L_factor\": L_factor, \"R_factor\": R_factor, \"I_m_factor\": I_m_factor, \"T\": T, \n",
    "    \"I_p_1\": I_p_1, \"I_p_2\": I_p_2, \"I_p_3\": I_p_3, \"I_m_1\": I_m_1, \"I_m_2\": I_m_2, \"I_m_3\": I_m_3,\n",
    "    \"R_1\": R_1, \"R_2\": R_2, \"R_3\": R_3, \"C_1\": C_1, \"C_2\": C_2, \"C_3\": C_3, \"L_1\": L_1, \"L_2\": L_2, \"L_3\": L_3, \n",
    "    \"characteristic_time\": np.sqrt(C_1 * C_factor * L_1 * L_factor), \"gamma\": gamma_1\n",
    "}\n",
    "\n",
    "\n",
    "# bookmark\n",
    "initial_parameter_dict[\"phi_1xdc\"] = 0\n",
    "initial_parameter_dict[\"phi_2xdc\"] = 0\n",
    "initial_parameter_dict[\"phi_3xdc\"] = 0\n",
    "initial_parameter_dict[\"phi_1ax\"]   = 0\n",
    "initial_parameter_dict[\"phi_1bx\"]   = 0\n",
    "initial_parameter_dict[\"phi_2x\"]   = 0\n",
    "initial_parameter_dict[\"phi_3x\"]   = 0\n",
    "initial_parameter_dict[\"mu_12\"]      = 0\n",
    "initial_parameter_dict[\"mu_13\"]      = 0"
   ]
  },
  {
   "cell_type": "code",
   "execution_count": 176,
   "id": "054c9571-179e-4bee-99fc-960dd621ac50",
   "metadata": {},
   "outputs": [],
   "source": [
    "protocol_list = [\n",
    "{\n",
    "    'duration': 100,\n",
    "    'phi_1ax': 0.0,\n",
    "    'phi_1bx': 0.0,\n",
    "    'phi_2x': 0.0,\n",
    "    'phi_3x': 0.0,\n",
    "    'mu_12': 0.0,\n",
    "    'mu_13': 0.0,\n",
    "    'phi_1xdc': 0,\n",
    "    'phi_2xdc': 0,\n",
    "    'phi_3xdc': np.pi,\n",
    "    'name': 'conditional_tilt_xz'\n",
    "},\n",
    "{\n",
    "    'duration': 100,\n",
    "    'phi_1ax': 0.0,\n",
    "    'phi_1bx': 0.0,\n",
    "    'phi_2x': 0.0,\n",
    "    'phi_3x': 0.0,\n",
    "    'mu_12': 0.0,\n",
    "    'mu_13': 0.0,\n",
    "    'phi_1xdc': 0,\n",
    "    'phi_2xdc': 0,\n",
    "    'phi_3xdc': np.pi,\n",
    "    'name': 'conditional_tilt_xz'\n",
    "},\n",
    "# {\n",
    "#     'duration': 100,\n",
    "#     'phi_1ax': 0.0,\n",
    "#     'phi_1bx': 0.0,\n",
    "#     'phi_2x': 0.0,\n",
    "#     'phi_3x': -1.0,\n",
    "#     'mu_12': 0.0,\n",
    "#     'mu_13': 0.0,\n",
    "#     'phi_1xdc': 0,\n",
    "#     'phi_2xdc': 0,\n",
    "#     'phi_3xdc': np.pi,\n",
    "#     'name': 'conditional_tilt_xz'\n",
    "# },\n",
    "# {\n",
    "#     'duration': 100,\n",
    "#     'phi_1ax': 0.0,\n",
    "#     'phi_1bx': 0.0,\n",
    "#     'phi_2x': 0.0,\n",
    "#     'phi_3x': 0.0,\n",
    "#     'mu_12': 0.0,\n",
    "#     'mu_13': 0.0,\n",
    "#     'phi_1xdc': 0,\n",
    "#     'phi_2xdc': 0,\n",
    "#     'phi_3xdc': 0,\n",
    "#     'name': 'conditional_tilt_xz'\n",
    "# },\n",
    "# {\n",
    "#     'duration': 100,\n",
    "#     'phi_1ax': 0.0,\n",
    "#     'phi_1bx': 0.0,\n",
    "#     'phi_2x': 0.0,\n",
    "#     'phi_3x': 0.0,\n",
    "#     'mu_12': 0.4,\n",
    "#     'mu_13': 0.4,\n",
    "#     'phi_1xdc': 0,\n",
    "#     'phi_2xdc': 0,\n",
    "#     'phi_3xdc': 0,\n",
    "#     'name': 'conditional_tilt_xz'\n",
    "# },\n",
    "# {\n",
    "#     'duration': 300,\n",
    "#     'phi_1ax': 0.0,\n",
    "#     'phi_1bx': 0.0,\n",
    "#     'phi_2x': 0.0,\n",
    "#     'phi_3x': 0.0,\n",
    "#     'mu_12': 0.4,\n",
    "#     'mu_13': 0.4,\n",
    "#     'phi_1xdc': 0,\n",
    "#     'phi_2xdc': 0,\n",
    "#     'phi_3xdc': 0,\n",
    "#     'name': 'conditional_tilt_xz'\n",
    "# },\n",
    "# {\n",
    "#     'duration': 100,\n",
    "#     'phi_1ax': 0.0,\n",
    "#     'phi_1bx': 0.0,\n",
    "#     'phi_2x': 0.0,\n",
    "#     'phi_3x': 0.0,\n",
    "#     'mu_12': 0.0,\n",
    "#     'mu_13': 0.0,\n",
    "#     'phi_1xdc': 0,\n",
    "#     'phi_2xdc': 0,\n",
    "#     'phi_3xdc': 0,\n",
    "#     'name': '4 wells'\n",
    "# }\n",
    "\n",
    "]\n"
   ]
  },
  {
   "cell_type": "markdown",
   "id": "eea046f2-89ba-4cc4-9e63-12ef25bdb860",
   "metadata": {},
   "source": [
    "# first initialization"
   ]
  },
  {
   "cell_type": "markdown",
   "id": "51bbbdaf-7360-4cf5-b98a-a3997c19cce1",
   "metadata": {},
   "source": [
    "### create initial state "
   ]
  },
  {
   "cell_type": "code",
   "execution_count": 177,
   "id": "b53e5fab-83b1-4d0b-be2f-d2c958b5f9b1",
   "metadata": {},
   "outputs": [],
   "source": [
    "importlib.reload(coupled_fq_protocol_library)\n",
    "default_init_state = True\n",
    "\n",
    "if default_init_state:\n",
    "    init_state = cfqr.init_state\n",
    "else:\n",
    "    init_state = None"
   ]
  },
  {
   "cell_type": "code",
   "execution_count": 178,
   "id": "a57f82b6-5cec-4bfd-9cce-4446a77dd935",
   "metadata": {},
   "outputs": [],
   "source": [
    "computation_protocol_parameter_dict = coupled_fq_protocol_library.customizedProtocol(initial_parameter_dict, protocol_list, initial_parameter_dict.keys())\n",
    "\n",
    "# storage_protocol, comp_protocol = create_system(computation_protocol_parameter_dict, modifiedFunction = None)"
   ]
  },
  {
   "cell_type": "code",
   "execution_count": null,
   "id": "d5bf03c2-afef-4c0a-bb58-a157a3006deb",
   "metadata": {},
   "outputs": [
    {
     "name": "stdout",
     "output_type": "stream",
     "text": [
      "use old initial_state\n",
      "as step value: slice(None, None, 10), sampleSize: 500\n",
      "from cfq_runner.py, The as_step is slice(None, None, None) and dt is 0.0002\n",
      "from quick_sim.py, sim_params:  [array([33.46640106, 33.46640106, 33.46640106, 33.46640106, 33.46640106,\n",
      "       33.46640106]), array([1., 1., 1., 4., 4., 4.]), array([1.60216235, 1.60216235, 1.60216235, 3.20432471, 3.20432471,\n",
      "       3.20432471])]\n",
      "from quick_sim.py\n",
      "gamma: [33.46640106 33.46640106 33.46640106 33.46640106 33.46640106 33.46640106], theta: [1. 1. 1. 4. 4. 4.] and eta: [1.60216235 1.60216235 1.60216235 3.20432471 3.20432471 3.20432471]\n",
      "from quick_sim.py: system.protocol.t_i = 0.0, system.protocol.t_f = 200.0\n",
      "from simulation.py: number of steps: 1000000, dt: 0.0002\n",
      "\n",
      " initializing...\n",
      "use old initial_state\n",
      "as step value: slice(None, None, 10), sampleSize: 500\n",
      "from cfq_runner.py, The as_step is slice(None, None, None) and dt is 0.0002\n",
      "from quick_sim.py, sim_params:  [array([33.46640106, 33.46640106, 33.46640106, 33.46640106, 33.46640106,\n",
      "       33.46640106]), array([1., 1., 1., 4., 4., 4.]), array([1.60216235, 1.60216235, 1.60216235, 3.20432471, 3.20432471,\n",
      "       3.20432471])]\n",
      "from quick_sim.py\n",
      "gamma: [33.46640106 33.46640106 33.46640106 33.46640106 33.46640106 33.46640106], theta: [1. 1. 1. 4. 4. 4.] and eta: [1.60216235 1.60216235 1.60216235 3.20432471 3.20432471 3.20432471]\n",
      "from quick_sim.py: system.protocol.t_i = 0.0, system.protocol.t_f = 200.0\n",
      "from simulation.py: number of steps: 1000000, dt: 0.0002\n",
      "\n",
      " running sim...\n",
      "simulating step 162408\r"
     ]
    }
   ],
   "source": [
    "importlib.reload(coupled_fq_protocol_library)\n",
    "\n",
    "storage_protocol, comp_protocol = coupled_fq_protocol_library.create_system(computation_protocol_parameter_dict, initial_parameter_dict.keys(), modifiedFunction = None)\n",
    "\n",
    "cfqr = cfq_3D_runner.coupledFluxQubitRunner(potential = coupled_fq_pot, params = params, \\\n",
    "                                                storage_protocol= storage_protocol, \\\n",
    "                                                computation_protocol= comp_protocol, \\\n",
    "                                         protocol_list = protocol_list, \\\n",
    "                                        has_velocity=has_velocity, measure_all_states = True)\n",
    "cfqr.initialize_sim()\n",
    "cfqr.set_sim_attributes(init_state = init_state)\n",
    "cfqr.run_sim(init_state = init_state)"
   ]
  },
  {
   "cell_type": "code",
   "execution_count": null,
   "id": "fd223628-d607-42f5-bdcb-900628d10656",
   "metadata": {},
   "outputs": [],
   "source": []
  },
  {
   "cell_type": "code",
   "execution_count": null,
   "id": "9b00a71e-5360-4d18-800d-9b22cf8b0100",
   "metadata": {},
   "outputs": [],
   "source": [
    "init_state = cfqr.init_state\n",
    "particle_index = cfqr.separate_by_state(init_state)\n",
    "index_array = particle_index.values()\n",
    "particle_color = [\"#E69F00\",  \"#56B4E9\",  \"#009E73\",  \"#F5C710\",  \"#0072B2\",  \"#D55E00\",  \"#CC79A7\", \"#999999\",  \"#000000\"]\n",
    "all_states = cfqr.sim.output.all_state[\"states\"]"
   ]
  },
  {
   "cell_type": "code",
   "execution_count": null,
   "id": "72f86c47-9327-4646-9172-6776c55607ad",
   "metadata": {
    "scrolled": true
   },
   "outputs": [],
   "source": [
    "import numpy as np\n",
    "from matplotlib import pyplot as plt\n",
    "from mpl_toolkits.mplot3d import Axes3D\n",
    "import matplotlib.animation\n",
    "import pandas as pd\n",
    "\n",
    "animation_data = all_states[:, 0::100, ...]\n",
    "fig = plt.figure()\n",
    "ax = fig.add_subplot(111, projection='3d')\n",
    "title = ax.set_title('3D Test')\n",
    "\n",
    "\n",
    "graph_array = []\n",
    "\n",
    "for key, index, color in zip(particle_index.keys(), particle_index.values(), particle_color):\n",
    "    xs = init_state[index][:, 0, 0]\n",
    "    ys = init_state[index][:, 1, 0]\n",
    "    zs = init_state[index][:, 2, 0]\n",
    "    graph = ax.plot(xs, ys, zs, c = color, label = key, linestyle=\"\", marker=\"o\")\n",
    "    graph_array.append(graph[0])\n",
    "ax.legend(bbox_to_anchor=[-0.1, 0.5])\n",
    "\n",
    "def update_graph(num):\n",
    "    for index, _graph in zip(particle_index.values(), graph_array):\n",
    "        x, y, z = animation_data[index, num, 0, 0], animation_data[index, num, 1, 0], animation_data[index, num, 2, 0]\n",
    "        _graph.set_data (x, y)\n",
    "        _graph.set_3d_properties(z)\n",
    "        title.set_text('3D Test, time={}'.format(num))\n",
    "    return title, _graph\n",
    "# x, y, z = animation_data[..., 0, 0, 0], animation_data[..., 0, 1, 0], animation_data[..., 0, 2, 0]\n",
    "# graph, = ax.plot(x, y, z, linestyle=\"\", marker=\"o\")\n",
    "\n",
    "ani = matplotlib.animation.FuncAnimation(fig, update_graph, frames=animation_data.shape[1]-1, \n",
    "                               interval=50, blit=True)\n",
    "\n",
    "plt.close()"
   ]
  },
  {
   "cell_type": "code",
   "execution_count": null,
   "id": "4a3eba2c-0289-45b4-a6c2-10c95a509101",
   "metadata": {},
   "outputs": [],
   "source": [
    "html_ani = ani.to_html5_video()"
   ]
  },
  {
   "cell_type": "code",
   "execution_count": null,
   "id": "d515b4d5-87bb-4a1f-ac8b-447c83935245",
   "metadata": {},
   "outputs": [],
   "source": [
    "HTML(html_ani)"
   ]
  },
  {
   "cell_type": "code",
   "execution_count": null,
   "id": "a8928bd3-3338-465d-b2e3-8939885f3804",
   "metadata": {},
   "outputs": [],
   "source": [
    "np.mean(cfqr.sim.work_dist_array)"
   ]
  },
  {
   "cell_type": "code",
   "execution_count": null,
   "id": "b2e0f15e-f973-472f-8312-2232265b0245",
   "metadata": {},
   "outputs": [],
   "source": []
  },
  {
   "cell_type": "code",
   "execution_count": null,
   "id": "a0a00208-b7fc-4f61-b8c1-09e826d1bab2",
   "metadata": {},
   "outputs": [],
   "source": []
  }
 ],
 "metadata": {
  "kernelspec": {
   "display_name": "Python 3 (ipykernel)",
   "language": "python",
   "name": "python3"
  },
  "language_info": {
   "codemirror_mode": {
    "name": "ipython",
    "version": 3
   },
   "file_extension": ".py",
   "mimetype": "text/x-python",
   "name": "python",
   "nbconvert_exporter": "python",
   "pygments_lexer": "ipython3",
   "version": "3.12.2"
  }
 },
 "nbformat": 4,
 "nbformat_minor": 5
}
