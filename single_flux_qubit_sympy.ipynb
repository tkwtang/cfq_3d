{
 "cells": [
  {
   "cell_type": "code",
   "execution_count": 1,
   "metadata": {},
   "outputs": [
    {
     "name": "stdout",
     "output_type": "stream",
     "text": [
      "\n"
     ]
    }
   ],
   "source": [
    "from sympy import *\n",
    "from sympy import latex\n",
    "from sympy.plotting import plot3d\n",
    "from sympy.plotting.plot import plot_contour\n",
    "from scipy.integrate import quad, nquad, dblquad\n",
    "from sympy import init_session\n",
    "%matplotlib inline\n",
    "init_session(quiet=True)\n",
    "init_printing(use_unicode=False)\n",
    "import numpy as np\n",
    "\n"
   ]
  },
  {
   "cell_type": "code",
   "execution_count": 2,
   "metadata": {},
   "outputs": [
    {
     "data": {
      "image/png": "[encoded data removed]",
      "text/latex": [
       "$\\displaystyle L \\beta \\cos{\\left(\\phi \\right)} \\cos{\\left(0.5 \\phi_{dc} \\right)} - L \\beta_{\\delta} \\sin{\\left(\\phi \\right)} \\sin{\\left(0.5 \\phi_{dc} \\right)} + \\frac{0.25 L \\left(\\phi_{dc} - \\phi_{xdc}\\right)^{2}}{\\ell} + 0.5 \\left(\\phi - \\phi_{x}\\right)^{2}$"
      ],
      "text/plain": [
       "                                                                               >\n",
       "                                                                          0.25 >\n",
       "L*beta*cos(phi)*cos(0.5*phi_dc) - L*beta_delta*sin(phi)*sin(0.5*phi_dc) + ---- >\n",
       "                                                                               >\n",
       "\n",
       ">                      2                     \n",
       "> *L*(phi_dc - phi_xdc)                     2\n",
       "> ---------------------- + 0.5*(phi - phi_x) \n",
       ">        ell                                 "
      ]
     },
     "execution_count": 2,
     "metadata": {},
     "output_type": "execute_result"
    }
   ],
   "source": [
    "px, pxdc, ell, beta, dbeta, L, g = symbols('phi_x phi_xdc ell beta beta_delta L gamma', real=True)\n",
    "p, pdc = var('phi phi_dc', real=True)\n",
    "\n",
    "\n",
    "quadratic_p =  .5 * (p-px)**2\n",
    "quadratic_pdc = .5* L/(2*ell)  * (pdc-pxdc)**2\n",
    "beta_term = beta*L *cos(.5*pdc)*cos(p)\n",
    "dbeta_term = -dbeta*L* sin(.5*pdc) * sin(p)\n",
    "\n",
    "\n",
    "U = quadratic_p + quadratic_pdc + beta_term + dbeta_term\n",
    "\n",
    "params1 = [[px,-.11],[pxdc,-2.5],[ell,1/24], [beta,6.2], [dbeta,.2], [L,1]]\n",
    "U_sub = U.subs(params1)\n",
    "U"
   ]
  },
  {
   "cell_type": "code",
   "execution_count": 3,
   "metadata": {},
   "outputs": [
    {
     "data": {
      "image/png": "[encoded data removed]",
      "text/latex": [
       "$\\displaystyle 0.5 \\left(\\phi + 0.11\\right)^{2} + 37.5 \\left(0.4 \\phi_{dc} + 1\\right)^{2} - 0.2 \\sin{\\left(\\phi \\right)} \\sin{\\left(0.5 \\phi_{dc} \\right)} + 6.2 \\cos{\\left(\\phi \\right)} \\cos{\\left(0.5 \\phi_{dc} \\right)}$"
      ],
      "text/plain": [
       "                2                        2                                     >\n",
       "0.5*(phi + 0.11)  + 37.5*(0.4*phi_dc + 1)  - 0.2*sin(phi)*sin(0.5*phi_dc) + 6. >\n",
       "\n",
       ">                           \n",
       "> 2*cos(phi)*cos(0.5*phi_dc)"
      ]
     },
     "execution_count": 3,
     "metadata": {},
     "output_type": "execute_result"
    }
   ],
   "source": [
    "U_sub"
   ]
  },
  {
   "cell_type": "markdown",
   "metadata": {},
   "source": [
    "## Execute the two cells above and then the two below for an interactive plot"
   ]
  },
  {
   "cell_type": "code",
   "execution_count": 4,
   "metadata": {},
   "outputs": [],
   "source": [
    "%%capture\n",
    "%matplotlib inline\n",
    "import matplotlib.pyplot as plt\n",
    "from matplotlib import ticker\n",
    "import numpy as np\n",
    "from ipywidgets import interactive\n",
    "from mpl_toolkits.mplot3d import Axes3D\n",
    "\n",
    "plt.rcParams['mathtext.fontset'] = 'cm'\n",
    "plt.rcParams['font.family'] = 'STIXGeneral'\n",
    "plt.rcParams['font.size'] = 16\n",
    "\n",
    "# use the function keyword arguments below to set default values\n",
    "def f(pxv=0, pxdcv=-2.62, ev=.04, bv=6.2, dbv=0, Lv=1, contour=True):\n",
    "    params = [[px,pxv],[pxdc,pxdcv],[ell,ev], [beta,bv], [dbeta,dbv], [L,Lv]]\n",
    "    \n",
    "    U_sub = U.subs(params).simplify()\n",
    "    \n",
    "    #SET THE PLOT WINDOW HERE ###\n",
    "    #pmin, pmax, dcmin, dcmax = -7, 7, -9, -4.0\n",
    "    #auto set window\n",
    "    pmin, pmax, dcmin, dcmax = pxv-3, pxv+3, pxdcv-.5, pxdcv+.5\n",
    "\n",
    "    \n",
    "    resolution = 500\n",
    "    \n",
    "    X,Y = np.meshgrid( np.linspace(pmin, pmax, resolution), np.linspace(dcmin, dcmax, resolution))\n",
    "    ft = lambdify((p,pdc), U_sub, 'numpy')\n",
    "\n",
    "    F_ft = lambdify((p,pdc), exp(-U_sub))\n",
    "\n",
    "    \n",
    "\n",
    "    \n",
    "    U_num = ft(X,Y)\n",
    "    \n",
    "    fig = plt.figure(figsize=(10,10))\n",
    "    ax2 = fig.add_subplot(222, projection=\"3d\")\n",
    "    ax2.plot_wireframe(X,Y,U_num)\n",
    "    ax3 = fig.add_subplot(221)\n",
    "    ax3.contourf(X,Y,np.log(U_num), 20)\n",
    "    \n",
    "    print('left min:',np.min(U_num[:,:int(resolution/2)-80]),'right_min:',np.min(U_num[:,int(resolution/2)+80:]), 'central min:',np.min(U_num[:,int(resolution/2)-5:int(resolution/2)+5]))\n",
    "    print('gamma:',Lv/(2*ev), 'beta:',Lv*bv, 'dbeta:', Lv*dbv)\n",
    "    \n",
    "#SET PARAMETER RANGES HERE ### \n",
    "xrng = (-1, 1, .001)\n",
    "dcxrng = (-4, -2, .001)\n",
    "erng = (0.01,1,.01)\n",
    "brng = (0,10,.01)\n",
    "dbrng = (-1,1,.01)\n",
    "Lrng = (.001,4)\n",
    "#SET PARAMETER RANGES HERE ### \n",
    "\n",
    "\n",
    "interactive_plot = interactive(f, pxv=xrng, pxdcv=dcxrng, ev=erng, bv=brng, dbv=dbrng, Lv=Lrng)\n",
    "#output = interactive_plot.children[-1]\n",
    "#output.layout.height = '900px'"
   ]
  },
  {
   "cell_type": "code",
   "execution_count": 5,
   "metadata": {},
   "outputs": [
    {
     "data": {
      "application/vnd.jupyter.widget-view+json": {
       "model_id": "872710bc875a468092b5491013a8fba8",
       "version_major": 2,
       "version_minor": 0
      },
      "text/plain": [
       "interactive(children=(FloatSlider(value=0.0, description='pxv', max=1.0, min=-1.0, step=0.001), FloatSlider(va…"
      ]
     },
     "metadata": {},
     "output_type": "display_data"
    }
   ],
   "source": [
    "interactive_plot"
   ]
  },
  {
   "cell_type": "code",
   "execution_count": null,
   "metadata": {},
   "outputs": [],
   "source": []
  },
  {
   "cell_type": "code",
   "execution_count": null,
   "metadata": {},
   "outputs": [],
   "source": []
  }
 ],
 "metadata": {
  "kernelspec": {
   "display_name": "Python 3 (ipykernel)",
   "language": "python",
   "name": "python3"
  },
  "language_info": {
   "codemirror_mode": {
    "name": "ipython",
    "version": 3
   },
   "file_extension": ".py",
   "mimetype": "text/x-python",
   "name": "python",
   "nbconvert_exporter": "python",
   "pygments_lexer": "ipython3",
   "version": "3.12.2"
  }
 },
 "nbformat": 4,
 "nbformat_minor": 4
}
